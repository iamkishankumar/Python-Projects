{
 "cells": [
  {
   "cell_type": "code",
   "execution_count": 1,
   "id": "1785e582",
   "metadata": {},
   "outputs": [],
   "source": [
    "from random import randint\n",
    "\n",
    "\n",
    "def win():\n",
    "    print ('You win!')\n",
    "\n",
    "def lose():\n",
    "    print ('You lose!')\n",
    "\n",
    "i=True\n",
    "while i:\n",
    "    player_choice = input('What do you pick? (rock, paper, scissors)')\n",
    "    random_move=randint(0,2)\n",
    "    moves = ['rock', 'paper', 'scissors']\n",
    "    computer_choice = moves[random_move]\n",
    "\n",
    "    if player_choice == computer_choice:\n",
    "        print ('Draw!')\n",
    "        i=False\n",
    "    elif player_choice=='rock' and computer_choice == 'scissors':\n",
    "        win()\n",
    "        i=True\n",
    "    elif player_choice=='paper' and computer_choice == 'scissors':\n",
    "        win()\n",
    "    elif player_choice == 'scissors' and computer_choice == 'rock':\n",
    "        lose()\n",
    "        i=False\n",
    "    elif player_choice== 'scissors' and computer_choice == 'rock':\n",
    "        lose()\n",
    "    elif player_choice == 'paper' and computer_choice == 'rock':\n",
    "        win()\n",
    "    elif player_choice =='rock'  and computer_choice =='paper' :\n",
    "        lose()\n",
    "    aGain = input('Do you want to play again? (y or n)').strip()\n",
    "    if aGain == 'y':\n",
    "        print(\"continue your game \")\n",
    "        i=True\n",
    "    else:\n",
    "        print(\"game over\")\n",
    "        i=False\n",
    "\n"
   ]
  },
  {
   "cell_type": "code",
   "execution_count": null,
   "id": "2da6ad3e",
   "metadata": {},
   "outputs": [],
   "source": []
  }
 ],
 "metadata": {
  "kernelspec": {
   "display_name": "Python 3 (ipykernel)",
   "language": "python",
   "name": "python3"
  },
  "language_info": {
   "codemirror_mode": {
    "name": "ipython",
    "version": 3
   },
   "file_extension": ".py",
   "mimetype": "text/x-python",
   "name": "python",
   "nbconvert_exporter": "python",
   "pygments_lexer": "ipython3",
   "version": "3.10.2"
  }
 },
 "nbformat": 4,
 "nbformat_minor": 5
}
